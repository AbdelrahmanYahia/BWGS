{
 "cells": [
  {
   "cell_type": "code",
   "execution_count": 1,
   "metadata": {},
   "outputs": [],
   "source": [
    "# !mkdir 01_Fastqc\n",
    "# !mkdir 02_Mapping\n",
    "# !mkdir 02_Mapping/stats\n",
    "# !mkdir 03_fastq_files\n",
    "# !mkdir 04_Kraken\n",
    "import os\n",
    "import glob\n",
    "fastq = glob.glob('00_data/*.fastq.gz')\n",
    "fastq.sort()\n",
    "with open(\"run.sh\", \"w\") as rsh:\n",
    "    for fasti in range(0, len(fastq), 2):\n",
    "        fast_1 = fastq[fasti]\n",
    "        fast_2 = fastq[fasti +1]\n",
    "        sample = fast_1[fast_1.index(\"/\"):fast_1.index(\"_L001_R1_001.fastq.gz\")]\n",
    "        rsh.write(\"echo I am processing sample: {}\\n\".format(fast_1))\n",
    "#         rsh.write(\"fastqc -t 65 -o 01_Fastqc/ {}\\n\".format(fast_1))\n",
    "#         rsh.write(\"fastqc -t 65 -o 01_Fastqc/ {}\\n\".format(fast_1))\n",
    "#         rsh.write(\"bwa mem -t 72 BWA_Index/GRCh38_latest_genomic.fna {} {} | samtools view --threads 72 -b | samtools sort --threads 72 -o 02_Mapping{}.bam\\n\".format(fast_1, fast_2, sample))\n",
    "#         rsh.write(\"samtools index 02_Mapping{}.bam 02_Mapping{}.bam.bai\\n\".format(sample, sample))\n",
    "#         rsh.write(\"samtools flagstat --threads 72 02_Mapping/{}.bam > 02_Mapping/stats/{}.txt\\n\".format(sample, sample))\n",
    "#         rsh.write(\"samtools fastq -1 03_fastq_files{}_1.fq -2 03_fastq_files{}_2.fq -0 /dev/null -s /dev/null -n -f 4 02_Mapping{}.bam\\n \".format(sample, sample, sample))\n",
    "        rsh.write(\"kraken2 --use-mpa-style --threads 60 --db /ramdisk/$DBNAME --report 04_Kraken{}_MetaPhlan_Big.tax --paired  03_fastq_files{}_1.fq 03_fastq_files{}_2.fq > 04_Kraken{}Metaphlan_Big.txt\\n\".format(sample, sample, sample, sample))\n",
    "        rsh.write(\"kraken2 --use-names --threads 60 --db /ramdisk/$DBNAME --report 04_Kraken{}_KrakenOut_Big.tax --paired  03_fastq_files{}_1.fq 03_fastq_files{}_2.fq > 04_Kraken{}Kraken_Big.txt\\n\".format(sample, sample, sample, sample))"
   ]
  },
  {
   "cell_type": "code",
   "execution_count": 10,
   "metadata": {},
   "outputs": [],
   "source": [
    "import os\n",
    "import glob\n",
    "fastq = glob.glob('00_data/*.fastq.gz')\n",
    "fastq.sort()\n",
    "with open(\"run3.sh\", \"w\") as rsh:\n",
    "    for fasti in range(0, len(fastq), 2):\n",
    "        fast_1 = fastq[fasti]\n",
    "        fast_2 = fastq[fasti +1]\n",
    "        sample = fast_1[fast_1.index(\"/\"):fast_1.index(\"_L001_R1_001.fastq.gz\")]\n",
    "        rsh.write(\"kraken2 --use-mpa-style --memory-mapping --threads 60 --db /ramdisk/k2_eupathdb48_20201113 --report 04_Kraken{}_MetaPhlan_Big.tax --paired  03_fastq_files{}_1.fq 03_fastq_files{}_2.fq > 04_Kraken{}Metaphlan_Big.txt\\n\".format(sample, sample, sample, sample))\n",
    "        rsh.write(\"kraken2 --use-names --memory-mapping --threads 60 --db /ramdisk/k2_eupathdb48_20201113 --report 04_Kraken{}_KrakenOut_Big.tax --paired  03_fastq_files{}_1.fq 03_fastq_files{}_2.fq > 04_Kraken{}Kraken_Big.txt\\n\".format(sample, sample, sample, sample))\n",
    "        rsh.write(\"kraken2 --use-mpa-style --memory-mapping --threads 60 --db /ramdisk/k2_eupathdb48_20201113 --report 04_Kraken{}_MetaPhlan_Big_Human.tax --paired  {} {} > 04_Kraken{}Metaphlan_Big_Human.txt\\n\".format(sample, fast_1, fast_2, sample))\n",
    "        rsh.write(\"kraken2 --use-names --memory-mapping --threads 60 --db /ramdisk/k2_eupathdb48_20201113 --report 04_Kraken{}_KrakenOut_Big_Human.tax --paired  {} {} > 04_Kraken{}Kraken_Big_Human.txt\\n\".format(sample, fast_1, fast_2, sample))\n"
   ]
  },
  {
   "cell_type": "code",
   "execution_count": 11,
   "metadata": {},
   "outputs": [
    {
     "name": "stdout",
     "output_type": "stream",
     "text": [
      "Loading database information... done.\n",
      "3154 sequences (0.58 Mbp) processed in 0.850s (222.6 Kseq/m, 40.95 Mbp/m).\n",
      "  3 sequences classified (0.10%)\n",
      "  3151 sequences unclassified (99.90%)\n",
      "Loading database information... done.\n",
      "3154 sequences (0.58 Mbp) processed in 0.852s (222.0 Kseq/m, 40.84 Mbp/m).\n",
      "  3 sequences classified (0.10%)\n",
      "  3151 sequences unclassified (99.90%)\n",
      "Loading database information... done.\n",
      "703350 sequences (193.86 Mbp) processed in 5.745s (7345.1 Kseq/m, 2024.45 Mbp/m).\n",
      "  166 sequences classified (0.02%)\n",
      "  703184 sequences unclassified (99.98%)\n",
      "Loading database information... done.\n",
      "703350 sequences (193.86 Mbp) processed in 5.480s (7700.4 Kseq/m, 2122.36 Mbp/m).\n",
      "  166 sequences classified (0.02%)\n",
      "  703184 sequences unclassified (99.98%)\n",
      "Loading database information... done.\n",
      "1177 sequences (0.25 Mbp) processed in 0.469s (150.6 Kseq/m, 31.77 Mbp/m).\n",
      "  1 sequences classified (0.08%)\n",
      "  1176 sequences unclassified (99.92%)\n",
      "Loading database information... done.\n",
      "1177 sequences (0.25 Mbp) processed in 0.468s (151.0 Kseq/m, 31.86 Mbp/m).\n",
      "  1 sequences classified (0.08%)\n",
      "  1176 sequences unclassified (99.92%)\n",
      "Loading database information... done.\n",
      "257818 sequences (73.36 Mbp) processed in 2.676s (5780.2 Kseq/m, 1644.77 Mbp/m).\n",
      "  60 sequences classified (0.02%)\n",
      "  257758 sequences unclassified (99.98%)\n",
      "Loading database information... done.\n",
      "257818 sequences (73.36 Mbp) processed in 2.669s (5796.1 Kseq/m, 1649.29 Mbp/m).\n",
      "  60 sequences classified (0.02%)\n",
      "  257758 sequences unclassified (99.98%)\n",
      "Loading database information... done.\n",
      "468 sequences (0.10 Mbp) processed in 0.233s (120.4 Kseq/m, 25.45 Mbp/m).\n",
      "  1 sequences classified (0.21%)\n",
      "  467 sequences unclassified (99.79%)\n",
      "Loading database information... done.\n",
      "468 sequences (0.10 Mbp) processed in 0.225s (124.6 Kseq/m, 26.35 Mbp/m).\n",
      "  1 sequences classified (0.21%)\n",
      "  467 sequences unclassified (99.79%)\n",
      "Loading database information... done.\n",
      "229233 sequences (66.60 Mbp) processed in 2.443s (5630.4 Kseq/m, 1635.92 Mbp/m).\n",
      "  49 sequences classified (0.02%)\n",
      "  229184 sequences unclassified (99.98%)\n",
      "Loading database information... done.\n",
      "229233 sequences (66.60 Mbp) processed in 2.516s (5467.1 Kseq/m, 1588.48 Mbp/m).\n",
      "  49 sequences classified (0.02%)\n",
      "  229184 sequences unclassified (99.98%)\n",
      "Loading database information... done.\n",
      "1143 sequences (0.24 Mbp) processed in 0.501s (136.9 Kseq/m, 29.11 Mbp/m).\n",
      "  0 sequences classified (0.00%)\n",
      "  1143 sequences unclassified (100.00%)\n",
      "Loading database information... done.\n",
      "1143 sequences (0.24 Mbp) processed in 0.450s (152.2 Kseq/m, 32.37 Mbp/m).\n",
      "  0 sequences classified (0.00%)\n",
      "  1143 sequences unclassified (100.00%)\n",
      "Loading database information... done.\n",
      "369242 sequences (105.62 Mbp) processed in 3.276s (6762.3 Kseq/m, 1934.30 Mbp/m).\n",
      "  75 sequences classified (0.02%)\n",
      "  369167 sequences unclassified (99.98%)\n",
      "Loading database information... done.\n",
      "369242 sequences (105.62 Mbp) processed in 3.238s (6841.0 Kseq/m, 1956.81 Mbp/m).\n",
      "  75 sequences classified (0.02%)\n",
      "  369167 sequences unclassified (99.98%)\n"
     ]
    }
   ],
   "source": [
    "!bash run3.sh"
   ]
  },
  {
   "cell_type": "code",
   "execution_count": 35,
   "metadata": {},
   "outputs": [],
   "source": [
    "import os\n",
    "import glob\n",
    "krakens = glob.glob('/home/genomics/Documents/DR_Amany/new/04_Kraken/Kraken2krona/*.txt')\n",
    "for kraken in krakens:\n",
    "    with open(kraken) as rtxt:\n",
    "        lines = rtxt.readlines()\n",
    "    with open(\"{}_without_human.krona\".format(kraken[:-4]), \"w\") as wtxt:\n",
    "        for line in lines:\n",
    "            if \"(taxid 0)\" not in line:\n",
    "                if \"Homo\" not in line:\n",
    "                    tmp = line.split(\"\\t\")[1:3]\n",
    "                    read_id = tmp[0]\n",
    "                    tax_id = tmp[1]\n",
    "                    tax_id = tax_id[tax_id.index(\"taxid\")+6:tax_id.index(\")\")]\n",
    "                    tmp_w = \"{}\\t{}\\n\".format(read_id, tax_id)\n",
    "                    wtxt.write(tmp_w)\n"
   ]
  },
  {
   "cell_type": "code",
   "execution_count": 36,
   "metadata": {},
   "outputs": [
    {
     "name": "stdout",
     "output_type": "stream",
     "text": [
      "ktImportTaxonomy /home/genomics/Documents/DR_Amany/new/04_Kraken/Kraken2krona/Sample_2_without_human.krona -o /home/genomics/Documents/DR_Amany/new/04_Kraken/Kraken2krona/Sample_2_without_human.html\n",
      "ktImportTaxonomy /home/genomics/Documents/DR_Amany/new/04_Kraken/Kraken2krona/Sample_3_without_human.krona -o /home/genomics/Documents/DR_Amany/new/04_Kraken/Kraken2krona/Sample_3_without_human.html\n",
      "ktImportTaxonomy /home/genomics/Documents/DR_Amany/new/04_Kraken/Kraken2krona/Sample_4_without_human.krona -o /home/genomics/Documents/DR_Amany/new/04_Kraken/Kraken2krona/Sample_4_without_human.html\n",
      "ktImportTaxonomy /home/genomics/Documents/DR_Amany/new/04_Kraken/Kraken2krona/Sample_1_without_human.krona -o /home/genomics/Documents/DR_Amany/new/04_Kraken/Kraken2krona/Sample_1_without_human.html\n"
     ]
    }
   ],
   "source": [
    "for kraken in krakens:\n",
    "    print(\"ktImportTaxonomy {}_without_human.krona -o {}_without_human.html\".format(kraken[:-4], kraken[:-4]))"
   ]
  }
 ],
 "metadata": {
  "kernelspec": {
   "display_name": "Python 3",
   "language": "python",
   "name": "python3"
  },
  "language_info": {
   "codemirror_mode": {
    "name": "ipython",
    "version": 3
   },
   "file_extension": ".py",
   "mimetype": "text/x-python",
   "name": "python",
   "nbconvert_exporter": "python",
   "pygments_lexer": "ipython3",
   "version": "3.8.5"
  }
 },
 "nbformat": 4,
 "nbformat_minor": 4
}
