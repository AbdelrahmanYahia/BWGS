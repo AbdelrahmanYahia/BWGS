{
 "cells": [
  {
   "cell_type": "code",
   "execution_count": null,
   "metadata": {},
   "outputs": [],
   "source": [
    "import pandas as pd \n",
    "import os\n",
    "import os \n",
    "import argparse\n",
    "import subprocess\n",
    "import pandas as pd"
   ]
  },
  {
   "cell_type": "code",
   "execution_count": null,
   "metadata": {},
   "outputs": [],
   "source": [
    "def retrive_ref(tax,taxid=False):\n",
    "    print(\"\\033[;32;1mSearching...\\033[;39;m\")\n",
    "    if taxid == False:\n",
    "        out = subprocess.Popen(f\"esearch -db assembly -query '{tax}[ORGN]' | esummary | xtract -pattern DocumentSummary \\\n",
    "                -def NA -element Organism,AssemblyAccession,Taxid,assembly-status -block Stat \\\n",
    "                -if Stat@category -equals contig_count -or Stat@category -equals contig_l50 \\\n",
    "                -or Stat@category -equals contig_n50 -or Stat@category -equals total_length \\\n",
    "                -element Stat\", shell=True, stdout=subprocess.PIPE).communicate()[0].decode('utf-8')\n",
    "    else:\n",
    "        tax=int(tax)\n",
    "        out = subprocess.Popen(f\"esearch -db genome -query 'txid{tax}' |elink -target assembly|esummary| xtract -pattern DocumentSummary \\\n",
    "                -def NA -element Organism,AssemblyAccession,Taxid,assembly-status -block Stat \\\n",
    "                -if Stat@category -equals contig_count -or Stat@category -equals contig_l50 \\\n",
    "                -or Stat@category -equals contig_n50 -or Stat@category -equals total_length \\\n",
    "                -element Stat\", shell=True, stdout=subprocess.PIPE).communicate()[0].decode('utf-8')\n",
    "\n",
    "    raw_lst = []\n",
    "    lst = out.strip().split(\"\\n\")\n",
    "    for i in lst:\n",
    "        raw_lst.append(i.split(\"\\t\"))\n",
    "    df = pd.DataFrame(raw_lst)\n",
    "    df.columns =['Organism', 'AssemblyAccession', \n",
    "                    'Taxid', 'assembly-status', 'contig_count',\n",
    "                    'contig_l50', 'contig_n50', 'total_length']\n",
    "\n",
    "    df[\"Organism\"].unique()\n",
    "    df = df.astype({\"contig_count\": int})\n",
    "    return df\n",
    "\n",
    "\n",
    "def filter_taxa_df(df):\n",
    "    print(\"\\033[;33;1mPlease Select an Organism: \\033[;39;m\")\n",
    "    counter = 1\n",
    "    uniques = df[\"Organism\"].unique()\n",
    "    for i in uniques:\n",
    "        print(f\"{counter}: {i}\")\n",
    "        counter += 1\n",
    "    n = int(input(\"\\n\"))\n",
    "    m = n-1\n",
    "    out = df[df[\"Organism\"] == df[\"Organism\"].unique()[m]].sort_values(\"contig_count\")\n",
    "    \n",
    "    print(\"\\033[;33;1mPlease Select an Assembly level: \\033[;39;m\")\n",
    "    counter = 1\n",
    "    uniques = out[\"assembly-status\"].unique()\n",
    "    for i in uniques:\n",
    "        print(f\"{counter}: {i}\")\n",
    "        counter += 1\n",
    "    n = int(input(\"\\n\"))\n",
    "    m = n-1\n",
    "    out2 = out[out[\"assembly-status\"] == out[\"assembly-status\"].unique()[m]].sort_values(\"contig_count\")\n",
    "    return out2\n",
    "\n",
    "def download_ref(df):\n",
    "    df2 = df[[\"AssemblyAccession\", \"total_length\", \"assembly-status\", \"contig_count\", \"contig_l50\", \"contig_n50\"]]\n",
    "    df2.index = df2.reset_index(drop = True).index + 1\n",
    "\n",
    "    if len(df2.index) > 1:\n",
    "        print(\"\\033[;33;1mPlease Select a Number to Download: \\033[;39;m\")\n",
    "        print(df2.to_string())\n",
    "        n = int(input(\"\\n\"))\n",
    "        m = n-1\n",
    "        acc = df2.iloc[m][\"AssemblyAccession\"]\n",
    "    else:\n",
    "        print(df2.to_string())\n",
    "        acc = df2.iloc[0][\"AssemblyAccession\"]\n",
    "\n",
    "    os.system(f\"./get_acc.sh {acc}\")\n",
    "    print(\"Done\")\n"
   ]
  },
  {
   "cell_type": "code",
   "execution_count": null,
   "metadata": {},
   "outputs": [],
   "source": [
    "df = pd.read_table(\"EL.report\")\n",
    "df.columns =['perc', 'clade', 'assigned', 'rank', 'txid', 'name']\n",
    "out = df[df[\"rank\"] == \"S\" ].sort_values(\"perc\",ascending=False)\n",
    "out.index = out.reset_index(drop = True).index + 1\n",
    "name = str(out.iloc[0][\"name\"]).strip()"
   ]
  },
  {
   "cell_type": "code",
   "execution_count": null,
   "metadata": {},
   "outputs": [],
   "source": [
    "df = retrive_ref(name)\n",
    "df_filterred = filter_taxa_df(df)\n",
    "download_ref(df_filterred)\n"
   ]
  }
 ],
 "metadata": {
  "interpreter": {
   "hash": "e3381db70853396d7451af2db8736d8d09d94e70e95c0959b02ce6e6657e7302"
  },
  "kernelspec": {
   "display_name": "Python 3.8.5 ('base')",
   "language": "python",
   "name": "python3"
  },
  "language_info": {
   "codemirror_mode": {
    "name": "ipython",
    "version": 3
   },
   "file_extension": ".py",
   "mimetype": "text/x-python",
   "name": "python",
   "nbconvert_exporter": "python",
   "pygments_lexer": "ipython3",
   "version": "3.8.5"
  },
  "orig_nbformat": 4
 },
 "nbformat": 4,
 "nbformat_minor": 2
}
